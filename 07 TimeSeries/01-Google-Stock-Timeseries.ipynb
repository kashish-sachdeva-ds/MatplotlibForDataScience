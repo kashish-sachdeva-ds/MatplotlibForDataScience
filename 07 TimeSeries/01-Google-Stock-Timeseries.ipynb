{
 "cells": [
  {
   "cell_type": "markdown",
   "id": "61bc90f8",
   "metadata": {},
   "source": [
    "# Google Stock Prices – Time Series Line Plot\n",
    "\n",
    "In this notebook, we visualize **Google’s closing stock price** over a 3-month period using a **time series plot** in Matplotlib.\n",
    "\n",
    "We:\n",
    "- Load real stock data from a CSV file (Yahoo Finance)\n",
    "- Remove market holidays (like May 25, 2020)\n",
    "- Plot time vs. stock price using `plt.plot()`\n"
   ]
  },
  {
   "cell_type": "code",
   "execution_count": null,
   "id": "ebaf45ca",
   "metadata": {},
   "outputs": [],
   "source": [
    "import pandas as pd\n",
    "import numpy as np\n",
    "import matplotlib.pyplot as plt\n",
    "import datetime"
   ]
  },
  {
   "cell_type": "markdown",
   "id": "3cc8ebdc",
   "metadata": {},
   "source": [
    "## Step 1: Load Stock Data from CSV\n",
    "\n",
    "You can download historical Google stock data from:\n",
    "\n",
    "📎 https://finance.yahoo.com/quote/GOOG/history/"
   ]
  },
  {
   "cell_type": "code",
   "execution_count": null,
   "id": "d80e3cf8",
   "metadata": {},
   "outputs": [],
   "source": []
  }
 ],
 "metadata": {
  "kernelspec": {
   "display_name": "matplotlib-env",
   "language": "python",
   "name": "matplotlib-env"
  },
  "language_info": {
   "codemirror_mode": {
    "name": "ipython",
    "version": 3
   },
   "file_extension": ".py",
   "mimetype": "text/x-python",
   "name": "python",
   "nbconvert_exporter": "python",
   "pygments_lexer": "ipython3",
   "version": "3.12.8"
  }
 },
 "nbformat": 4,
 "nbformat_minor": 5
}
