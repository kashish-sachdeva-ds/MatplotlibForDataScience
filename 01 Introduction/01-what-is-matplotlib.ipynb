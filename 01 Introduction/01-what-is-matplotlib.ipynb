{
 "cells": [
  {
   "cell_type": "markdown",
   "id": "35f11155",
   "metadata": {},
   "source": [
    "# What is Matplotlib?\n",
    "\n",
    "Matplotlib provides numerous ways to create **static**, **animated**, and **interactive** visualizations.  \n",
    "It is the most popular plotting library for Python.  \n",
    "It works easily with **NumPy** and **Pandas** arrays and is widely used in data science, machine learning, and analytics.\n",
    "\n",
    "---\n",
    "\n",
    "##  Why Learn Matplotlib?\n",
    "\n",
    "- It gives you full control over every element in a plot  \n",
    "- It works with simple lists, NumPy arrays, and Pandas DataFrames  \n",
    "- It’s the base for other libraries like Seaborn, Plotly, and pandas plotting\n"
   ]
  },
  {
   "cell_type": "markdown",
   "id": "57b0beff",
   "metadata": {},
   "source": [
    "---\n",
    "\n",
    "## Setup Instructions (Must-Read if Using Jupyter in VS Code)\n",
    "\n",
    "If you face this error:\n",
    "\n",
    "```\n",
    "ModuleNotFoundError: No module named 'matplotlib'\n",
    "```\n",
    "\n",
    "Then Jupyter is running a different Python environment (where matplotlib is not installed).  \n",
    "Follow the steps below to fix it:\n",
    "\n",
    "### Step-by-Step Fix:\n",
    "\n",
    "```bash\n",
    "pip install matplotlib ipykernel\n",
    "python -m ipykernel install --user --name=matplotlib-env\n",
    "```\n",
    "\n",
    "- After this, go to the top-right of your Jupyter notebook  \n",
    "- Click the kernel name (like Python 3.x or base)  \n",
    "- Select `matplotlib-env`\n",
    "\n",
    "Now your notebook can use all matplotlib features without errors \n"
   ]
  },
  {
   "cell_type": "markdown",
   "id": "81d73efe",
   "metadata": {},
   "source": [
    "---\n",
    "\n",
    "## Let's Test the Imports\n"
   ]
  },
  {
   "cell_type": "code",
   "execution_count": 1,
   "id": "e625eb18",
   "metadata": {},
   "outputs": [],
   "source": [
    "import matplotlib.pyplot as plt\n",
    "%matplotlib inline\n",
    "import numpy as np\n",
    "import pandas as pd"
   ]
  },
  {
   "cell_type": "markdown",
   "id": "ee3301d0",
   "metadata": {},
   "source": [
    "If you see no error above, you're all set to start plotting!\n",
    "\n",
    "In the next notebook, we’ll learn how to:\n",
    "- Create a simple line plot\n",
    "- Add labels, titles, and display the graph\n",
    "\n",
    "Go to `02-LinePlots/01-basic-line-plot.ipynb` to continue your learning!\n"
   ]
  }
 ],
 "metadata": {
  "kernelspec": {
   "display_name": "matplotlib-env",
   "language": "python",
   "name": "matplotlib-env"
  },
  "language_info": {
   "codemirror_mode": {
    "name": "ipython",
    "version": 3
   },
   "file_extension": ".py",
   "mimetype": "text/x-python",
   "name": "python",
   "nbconvert_exporter": "python",
   "pygments_lexer": "ipython3",
   "version": "3.12.8"
  }
 },
 "nbformat": 4,
 "nbformat_minor": 5
}
