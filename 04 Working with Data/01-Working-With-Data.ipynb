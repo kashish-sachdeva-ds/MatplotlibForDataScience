{
 "cells": [
  {
   "cell_type": "markdown",
   "id": "e82460b2",
   "metadata": {},
   "source": [
    "# Ice Cream Sales vs Temperature\n",
    "\n",
    "In this notebook, we'll use `pandas` and `matplotlib` together to:\n",
    "\n",
    "- Load real-world data from a CSV file\n",
    "- Plot temperature vs. ice cream sales\n",
    "- Add annotations and bars to visualize the data better\n"
   ]
  },
  {
   "cell_type": "code",
   "execution_count": 1,
   "id": "e08724e1",
   "metadata": {},
   "outputs": [],
   "source": [
    "import pandas as pd\n",
    "import numpy as np\n",
    "import matplotlib.pyplot as plt"
   ]
  },
  {
   "cell_type": "markdown",
   "id": "48cf68ea",
   "metadata": {},
   "source": [
    "## Step 1: Load the Dataset\n",
    "\n",
    "We load `icecreamsales.csv` and sort it by temperature for better plotting."
   ]
  },
  {
   "cell_type": "code",
   "execution_count": 4,
   "id": "94800292",
   "metadata": {},
   "outputs": [
    {
     "data": {
      "text/html": [
       "<div>\n",
       "<style scoped>\n",
       "    .dataframe tbody tr th:only-of-type {\n",
       "        vertical-align: middle;\n",
       "    }\n",
       "\n",
       "    .dataframe tbody tr th {\n",
       "        vertical-align: top;\n",
       "    }\n",
       "\n",
       "    .dataframe thead th {\n",
       "        text-align: right;\n",
       "    }\n",
       "</style>\n",
       "<table border=\"1\" class=\"dataframe\">\n",
       "  <thead>\n",
       "    <tr style=\"text-align: right;\">\n",
       "      <th></th>\n",
       "      <th>Temperature</th>\n",
       "      <th>Sales</th>\n",
       "    </tr>\n",
       "  </thead>\n",
       "  <tbody>\n",
       "    <tr>\n",
       "      <th>0</th>\n",
       "      <td>37</td>\n",
       "      <td>292</td>\n",
       "    </tr>\n",
       "    <tr>\n",
       "      <th>1</th>\n",
       "      <td>40</td>\n",
       "      <td>228</td>\n",
       "    </tr>\n",
       "    <tr>\n",
       "      <th>11</th>\n",
       "      <td>42</td>\n",
       "      <td>320</td>\n",
       "    </tr>\n",
       "    <tr>\n",
       "      <th>2</th>\n",
       "      <td>49</td>\n",
       "      <td>324</td>\n",
       "    </tr>\n",
       "    <tr>\n",
       "      <th>10</th>\n",
       "      <td>53</td>\n",
       "      <td>324</td>\n",
       "    </tr>\n",
       "  </tbody>\n",
       "</table>\n",
       "</div>"
      ],
      "text/plain": [
       "    Temperature  Sales\n",
       "0            37    292\n",
       "1            40    228\n",
       "11           42    320\n",
       "2            49    324\n",
       "10           53    324"
      ]
     },
     "execution_count": 4,
     "metadata": {},
     "output_type": "execute_result"
    }
   ],
   "source": [
    "# Read in ice cream sales data\n",
    "ics_df = pd.read_csv('../image and csv file/icecreamsales.csv')\n",
    "ics_df = ics_df.sort_values(by='Temperature')\n",
    "ics_df.head()"
   ]
  },
  {
   "cell_type": "markdown",
   "id": "9040fe5b",
   "metadata": {},
   "source": [
    "## Step 2: Convert DataFrame to NumPy Arrays\n",
    "\n",
    "This helps in accessing `x` and `y` values directly.\n"
   ]
  },
  {
   "cell_type": "code",
   "execution_count": 5,
   "id": "55369a92",
   "metadata": {},
   "outputs": [],
   "source": [
    "# Convert from Pandas to NumPy array\n",
    "np_arr = ics_df.values\n",
    "\n",
    "# Get x & y values and put in array\n",
    "x_2 = np_arr[:,0]\n",
    "y_2 = np_arr[:,1]"
   ]
  },
  {
   "cell_type": "markdown",
   "id": "46ed60ee",
   "metadata": {},
   "source": [
    "## Step 3: Plot Line Chart with Annotations\n",
    "We'll use:\n",
    "- `axes.annotate()` for marking \"Good Month\"\n",
    "- `axes.plot()` for the line\n"
   ]
  },
  {
   "cell_type": "code",
   "execution_count": null,
   "id": "06875702",
   "metadata": {},
   "outputs": [],
   "source": [
    "fig_4 = plt.figure(figsize=(6,4))\n",
    "axes_4 = fig_4.add_axes([0,0,1,1])\n",
    "axes_4.set_title('Ice Cream Sales vs. Temperature')\n",
    "axes_4.set_xlabel('Temperature')\n",
    "axes_4.set_ylabel('Ice Cream Sales')\n",
    "axes_4.plot(x_2, y_2)\n",
    "\n",
    "# Add annotation with arrow\n",
    "axes_4.annotate('Good Month', xy=(83, 536), xytext=(60, 520),\n",
    "             arrowprops=dict(facecolor='black', shrink=0.05))\n",
    "plt.show()"
   ]
  },
  {
   "cell_type": "markdown",
   "id": "25c706c9",
   "metadata": {},
   "source": [
    "## Step 4: Add Bar Chart on Top of the Same Data\n",
    "\n",
    "This gives an alternative view of the same data."
   ]
  },
  {
   "cell_type": "code",
   "execution_count": null,
   "id": "8e4b90a2",
   "metadata": {},
   "outputs": [],
   "source": [
    "plt.bar(x_2, y_2)\n",
    "plt.xlabel(\"Temperature\")\n",
    "plt.ylabel(\"Ice Cream Sales\")\n",
    "plt.title(\"Bar Chart - Ice Cream Sales vs Temperature\")\n",
    "plt.show()"
   ]
  },
  {
   "cell_type": "markdown",
   "id": "e991b9d4",
   "metadata": {},
   "source": [
    "## `Now` Put It All Together (Run This At Once)"
   ]
  },
  {
   "cell_type": "code",
   "execution_count": 9,
   "id": "18991bb2",
   "metadata": {},
   "outputs": [
    {
     "data": {
      "text/plain": [
       "<BarContainer object of 12 artists>"
      ]
     },
     "execution_count": 9,
     "metadata": {},
     "output_type": "execute_result"
    },
    {
     "data": {
      "image/png": "[encoded data removed]",
      "text/plain": [
       "<Figure size 600x400 with 1 Axes>"
      ]
     },
     "metadata": {},
     "output_type": "display_data"
    }
   ],
   "source": [
    "ics_df = pd.read_csv('../image and csv file/icecreamsales.csv')\n",
    "ics_df = ics_df.sort_values(by='Temperature')\n",
    "\n",
    "np_arr = ics_df.values\n",
    "\n",
    "x_2 = np_arr[:,0]\n",
    "y_2 = np_arr[:,1]\n",
    "\n",
    "fig_4 = plt.figure(figsize=(6,4))\n",
    "axes_4 = fig_4.add_axes([0,0,1,1])\n",
    "axes_4.set_title('Ice Cream Sales vs. Temperature')\n",
    "axes_4.set_xlabel('Temperature')\n",
    "axes_4.set_ylabel('Ice Cream Sales')\n",
    "axes_4.plot(x_2,y_2)\n",
    "\n",
    "axes_4.annotate('Good Month', xy=(83, 536), xytext=(60, 520),\n",
    "             arrowprops=dict(facecolor='black', shrink=0.05),)\n",
    "\n",
    "plt.bar(x_2,y_2)"
   ]
  },
  {
   "cell_type": "code",
   "execution_count": 11,
   "id": "6d5b9f49",
   "metadata": {},
   "outputs": [],
   "source": [
    "fig_4.savefig('../image and csv file/2nd_plot.png', dpi = 300) "
   ]
  }
 ],
 "metadata": {
  "kernelspec": {
   "display_name": "matplotlib-env",
   "language": "python",
   "name": "matplotlib-env"
  },
  "language_info": {
   "codemirror_mode": {
    "name": "ipython",
    "version": 3
   },
   "file_extension": ".py",
   "mimetype": "text/x-python",
   "name": "python",
   "nbconvert_exporter": "python",
   "pygments_lexer": "ipython3",
   "version": "3.12.8"
  }
 },
 "nbformat": 4,
 "nbformat_minor": 5
}
